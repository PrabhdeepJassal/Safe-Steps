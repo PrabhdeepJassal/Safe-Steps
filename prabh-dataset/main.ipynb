{
 "cells": [
  {
   "cell_type": "code",
   "execution_count": 72,
   "metadata": {},
   "outputs": [],
   "source": [
    "import sys\n",
    "import time\n",
    "from bs4 import BeautifulSoup\n",
    "from selenium.webdriver import Chrome\n",
    "from selenium.webdriver import ChromeOptions\n",
    "from selenium.webdriver.chrome.service import Service\n",
    "from selenium.webdriver.common.by import By\n",
    "from selenium.webdriver.common.keys import Keys\n",
    "from selenium.webdriver.support import expected_conditions as EC\n",
    "from selenium.webdriver.support.ui import WebDriverWait\n",
    "import pandas as pd"
   ]
  },
  {
   "cell_type": "code",
   "execution_count": 13,
   "metadata": {},
   "outputs": [
    {
     "data": {
      "text/plain": [
       "{}"
      ]
     },
     "execution_count": 13,
     "metadata": {},
     "output_type": "execute_result"
    }
   ],
   "source": [
    "options = ChromeOptions()\n",
    "options.add_experimental_option(\n",
    "    \"excludeSwitches\", [\"enable-automation\", \"enable-logging\"]\n",
    ")\n",
    "options.add_experimental_option(\"useAutomationExtension\", False)\n",
    "\n",
    "service = Service()\n",
    "browser = Chrome(\n",
    "    options=options,\n",
    "    service=service,\n",
    ")\n",
    "\n",
    "\n",
    "browser.execute_cdp_cmd(\n",
    "    \"Network.setUserAgentOverride\",\n",
    "    {\n",
    "        \"userAgent\": \"Mozilla/5.0 (Windows NT 10.0; Win64; x64) AppleWebKit/537.36 (KHTML, like Gecko) Chrome/83.0.4103.53 Safari/537.36\"\n",
    "    },\n",
    ")"
   ]
  },
  {
   "cell_type": "markdown",
   "metadata": {},
   "source": [
    "Indian Express"
   ]
  },
  {
   "cell_type": "code",
   "execution_count": 14,
   "metadata": {},
   "outputs": [],
   "source": [
    "browser.get(\"https://indianexpress.com/about/delhi-crime/\")"
   ]
  },
  {
   "cell_type": "code",
   "execution_count": 25,
   "metadata": {},
   "outputs": [],
   "source": [
    "for x in range(0, 1000):\n",
    "    time.sleep(4)\n",
    "    el = browser.find_element(by=By.ID, value=\"load_tag_article\")\n",
    "\n",
    "    if el.text != \"Load More\":\n",
    "        break\n",
    "\n",
    "    el.click()"
   ]
  },
  {
   "cell_type": "code",
   "execution_count": 29,
   "metadata": {},
   "outputs": [],
   "source": [
    "elements = browser.find_elements(by=By.CSS_SELECTOR , value=\"#tag_article .details\")"
   ]
  },
  {
   "cell_type": "code",
   "execution_count": 31,
   "metadata": {},
   "outputs": [],
   "source": [
    "li = []\n",
    "\n",
    "for el in elements:\n",
    "    link = el.find_element(by=By.CSS_SELECTOR, value=\".about-thumb a\").get_attribute(\n",
    "        \"href\"\n",
    "    )\n",
    "    date = el.find_element(by=By.CSS_SELECTOR, value=\".img-context p\").text\n",
    "    title = el.find_element(by=By.CSS_SELECTOR, value=\".img-context h3\").text\n",
    "\n",
    "    li.append(\n",
    "        {\n",
    "            \"link\": link,\n",
    "            \"date\": date,\n",
    "            \"title\": title,\n",
    "        }\n",
    "    )"
   ]
  },
  {
   "cell_type": "code",
   "execution_count": 33,
   "metadata": {},
   "outputs": [],
   "source": [
    "df = pd.DataFrame(li)"
   ]
  },
  {
   "cell_type": "code",
   "execution_count": 38,
   "metadata": {},
   "outputs": [],
   "source": [
    "df.to_csv(\"indianexpress-delhi-crime.csv\")"
   ]
  },
  {
   "cell_type": "markdown",
   "metadata": {},
   "source": [
    "India TV"
   ]
  },
  {
   "cell_type": "code",
   "execution_count": 52,
   "metadata": {},
   "outputs": [],
   "source": [
    "browser.get(\"https://www.indiatvnews.com/topic/delhi-crime\")"
   ]
  },
  {
   "cell_type": "code",
   "execution_count": null,
   "metadata": {},
   "outputs": [],
   "source": [
    "li = []\n",
    "current_active = browser.find_element(by=By.CSS_SELECTOR, value=\".pagin li.active\").text\n",
    "previous_active = \"0\"\n",
    "\n",
    "try : \n",
    "    while 1:\n",
    "        current_active = browser.find_element(\n",
    "            by=By.CSS_SELECTOR, value=\".pagin li.active\"\n",
    "        ).text\n",
    "\n",
    "        if current_active == previous_active:\n",
    "            break\n",
    "\n",
    "        el = browser.find_element(by=By.CSS_SELECTOR, value=\".row.newsListBox\")\n",
    "        elements = el.find_elements(by=By.CSS_SELECTOR, value=\".searchresult ul li\")\n",
    "\n",
    "        for el in elements:\n",
    "            link = el.find_element(by=By.CSS_SELECTOR, value=\"a\").get_attribute(\"href\")\n",
    "            date = el.find_element(by=By.CSS_SELECTOR, value=\".deskTime\").text\n",
    "            title = el.find_element(by=By.CSS_SELECTOR, value=\"h3\").text\n",
    "\n",
    "            li.append(\n",
    "                {\n",
    "                    \"link\": link,\n",
    "                    \"date\": date,\n",
    "                    \"title\": title,\n",
    "                }\n",
    "            )\n",
    "\n",
    "        next_btn = browser.find_element(by=By.CSS_SELECTOR, value=\".nextpb\")\n",
    "        browser.execute_script(\"document.querySelector('.nextpb').scrollIntoView(true)\")\n",
    "        next_btn.click()\n",
    "\n",
    "        time.sleep(4)\n",
    "\n",
    "except Exception:\n",
    "    print(\"Try again if getting ElementClickInterceptedException\")"
   ]
  },
  {
   "cell_type": "code",
   "execution_count": 56,
   "metadata": {},
   "outputs": [],
   "source": [
    "df = pd.DataFrame(li)"
   ]
  },
  {
   "cell_type": "code",
   "execution_count": 58,
   "metadata": {},
   "outputs": [],
   "source": [
    "df.to_csv(\"./indiatvnews-delhi-crime.csv\")"
   ]
  },
  {
   "cell_type": "code",
   "execution_count": 62,
   "metadata": {},
   "outputs": [],
   "source": [
    "df1 = pd.read_json(\"./archive (5)/crime_dataset (1).json\")\n",
    "df2 = pd.read_json(\"./archive (5)/crime_dataset (2).json\")\n",
    "df3 = pd.read_json(\"./archive (5)/crime_dataset (4).json\")"
   ]
  },
  {
   "cell_type": "code",
   "execution_count": 71,
   "metadata": {},
   "outputs": [
    {
     "data": {
      "text/plain": [
       "crime_number                6894\n",
       "crime_type                 Fraud\n",
       "latitude               28.453467\n",
       "longitude               77.33241\n",
       "occurred        03/02/2020 00:00\n",
       "disposition               Closed\n",
       "Name: 0, dtype: object"
      ]
     },
     "execution_count": 71,
     "metadata": {},
     "output_type": "execute_result"
    }
   ],
   "source": [
    "df1.iloc[0]"
   ]
  },
  {
   "cell_type": "code",
   "execution_count": 70,
   "metadata": {},
   "outputs": [
    {
     "data": {
      "text/plain": [
       "0    LODHI COLONY\n",
       "1        gangrape\n",
       "2           22:31\n",
       "3      2020-06-15\n",
       "4            Open\n",
       "5           C8160\n",
       "6               -\n",
       "Name: 0, dtype: object"
      ]
     },
     "execution_count": 70,
     "metadata": {},
     "output_type": "execute_result"
    }
   ],
   "source": [
    "df3.iloc[0]"
   ]
  }
 ],
 "metadata": {
  "kernelspec": {
   "display_name": "Python 3",
   "language": "python",
   "name": "python3"
  },
  "language_info": {
   "codemirror_mode": {
    "name": "ipython",
    "version": 3
   },
   "file_extension": ".py",
   "mimetype": "text/x-python",
   "name": "python",
   "nbconvert_exporter": "python",
   "pygments_lexer": "ipython3",
   "version": "3.13.0"
  }
 },
 "nbformat": 4,
 "nbformat_minor": 2
}
